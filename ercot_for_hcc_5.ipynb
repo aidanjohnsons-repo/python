{
 "cells": [
  {
   "cell_type": "code",
   "execution_count": 12,
   "id": "48282098-db56-4406-985c-6d3ee36bcd37",
   "metadata": {},
   "outputs": [],
   "source": [
    "import pandas as pd\n",
    "import matplotlib\n",
    "from matplotlib import pyplot as plt\n",
    "from datetime import date"
   ]
  },
  {
   "cell_type": "code",
   "execution_count": 13,
   "id": "762f59cf-6aa3-4202-afec-c731fe4f955e",
   "metadata": {},
   "outputs": [],
   "source": [
    "matplotlib.use(\"QtAgg\")"
   ]
  },
  {
   "cell_type": "code",
   "execution_count": 14,
   "id": "c836fee1-4cb6-4df6-96c4-c079e6129389",
   "metadata": {},
   "outputs": [],
   "source": [
    "data = pd.read_csv('small_panhandle_data.csv')"
   ]
  },
  {
   "cell_type": "code",
   "execution_count": 15,
   "id": "b35d48fa-f772-48d0-ab95-de2056bdc415",
   "metadata": {},
   "outputs": [],
   "source": [
    "data=data.drop(columns = ['dateF'])"
   ]
  },
  {
   "cell_type": "code",
   "execution_count": 16,
   "id": "98b80645-2263-4ab1-be24-9d024a902db7",
   "metadata": {},
   "outputs": [],
   "source": [
    "#I thought I would need year/month/day format for other methods to work"
   ]
  },
  {
   "cell_type": "code",
   "execution_count": 17,
   "id": "ffb053f3-935e-4b83-b578-2a37d6a4a9b3",
   "metadata": {},
   "outputs": [],
   "source": [
    "spring = data[data.date.between(\"03/20/2024\",\"06/19/2024\")]"
   ]
  },
  {
   "cell_type": "code",
   "execution_count": 18,
   "id": "7b47e20f-c38c-4dce-aee1-30ba67eb776d",
   "metadata": {},
   "outputs": [],
   "source": [
    "summer = data[data.date.between(\"06/20/2024\",\"09/21/2024\")]"
   ]
  },
  {
   "cell_type": "code",
   "execution_count": 19,
   "id": "66b647b4-97c5-4572-8e7f-56b94b18c9ec",
   "metadata": {},
   "outputs": [],
   "source": [
    "fall = data[data.date.between(\"09/22/2024\",\"12/20/2024\")]"
   ]
  },
  {
   "cell_type": "code",
   "execution_count": 20,
   "id": "3c49fbd3-2aa1-4538-84ee-074f39e8d4f3",
   "metadata": {},
   "outputs": [],
   "source": [
    "#Winter is 0, spring is 1, summer is 2, fall is 3 in the 'season' column"
   ]
  },
  {
   "cell_type": "code",
   "execution_count": 21,
   "id": "8e3e9d2b-cc3c-4644-8714-b4cb917d4b11",
   "metadata": {},
   "outputs": [],
   "source": [
    "data['season'] = 0"
   ]
  },
  {
   "cell_type": "code",
   "execution_count": 22,
   "id": "dad43195-fb26-4c72-8056-f80ac2fbf366",
   "metadata": {},
   "outputs": [],
   "source": [
    "#This creates the boolean mask for and assigns each season value to 'season' column.\n",
    "#I think there's a way to make this shorter and more efficient but I don't nokw how"
   ]
  },
  {
   "cell_type": "code",
   "execution_count": 23,
   "id": "2e5be388-78d2-4662-b7e3-29ab320f24e9",
   "metadata": {},
   "outputs": [],
   "source": [
    "springmask = data['date'].between(\"03/20/2024\",\"06/19/2024\")"
   ]
  },
  {
   "cell_type": "code",
   "execution_count": 24,
   "id": "b9a8bae9-9317-4864-8e93-69e754d64dc8",
   "metadata": {},
   "outputs": [],
   "source": [
    "data.loc[springmask,'season']= 1"
   ]
  },
  {
   "cell_type": "code",
   "execution_count": 25,
   "id": "8f07b8ef-7513-40bd-9038-b95e46b2890f",
   "metadata": {},
   "outputs": [],
   "source": [
    "summermask = data['date'].between(\"06/20/2024\",\"09/21/2024\")"
   ]
  },
  {
   "cell_type": "code",
   "execution_count": 26,
   "id": "70ae193f-c0e1-475e-bbca-320f08ade204",
   "metadata": {},
   "outputs": [],
   "source": [
    "data.loc[summermask,'season']= 2"
   ]
  },
  {
   "cell_type": "code",
   "execution_count": 27,
   "id": "e3a6e8ff-9c26-49da-af40-35fae4e496cc",
   "metadata": {},
   "outputs": [],
   "source": [
    "fallmask = data['date'].between(\"09/22/2024\",\"12/20/2024\")"
   ]
  },
  {
   "cell_type": "code",
   "execution_count": 28,
   "id": "7b38d51e-430a-4736-96f3-941f568d76c6",
   "metadata": {},
   "outputs": [],
   "source": [
    "data.loc[fallmask,'season']= 3"
   ]
  },
  {
   "cell_type": "code",
   "execution_count": 29,
   "id": "1e8c82ba-659b-4fd9-a2e2-a7a54a30b463",
   "metadata": {},
   "outputs": [],
   "source": [
    "def differentiate(a,b):\n",
    "    for i in range (1,len(a)):\n",
    "        b[i]=float(a[i]-a[i-1])"
   ]
  },
  {
   "cell_type": "code",
   "execution_count": 30,
   "id": "96e5b6db-651a-441f-acf1-1adbdad2c17e",
   "metadata": {},
   "outputs": [],
   "source": [
    "data['differential']=0"
   ]
  },
  {
   "cell_type": "code",
   "execution_count": 31,
   "id": "f39dbd00-773b-4d7d-87f6-35aaa60a990b",
   "metadata": {},
   "outputs": [
    {
     "name": "stderr",
     "output_type": "stream",
     "text": [
      "C:\\Users\\runni\\AppData\\Local\\Temp\\ipykernel_13480\\1524461724.py:3: SettingWithCopyWarning: \n",
      "A value is trying to be set on a copy of a slice from a DataFrame\n",
      "\n",
      "See the caveats in the documentation: https://pandas.pydata.org/pandas-docs/stable/user_guide/indexing.html#returning-a-view-versus-a-copy\n",
      "  b[i]=float(a[i]-a[i-1])\n",
      "C:\\Users\\runni\\AppData\\Local\\Temp\\ipykernel_13480\\1524461724.py:3: FutureWarning: Setting an item of incompatible dtype is deprecated and will raise an error in a future version of pandas. Value '0.7400000000000002' has dtype incompatible with int64, please explicitly cast to a compatible dtype first.\n",
      "  b[i]=float(a[i]-a[i-1])\n"
     ]
    }
   ],
   "source": [
    "differentiate(data['price'],data['differential'])"
   ]
  },
  {
   "cell_type": "code",
   "execution_count": 32,
   "id": "5e6c6975-8bcd-4c96-985d-d9678326741e",
   "metadata": {},
   "outputs": [
    {
     "data": {
      "text/html": [
       "<div>\n",
       "<style scoped>\n",
       "    .dataframe tbody tr th:only-of-type {\n",
       "        vertical-align: middle;\n",
       "    }\n",
       "\n",
       "    .dataframe tbody tr th {\n",
       "        vertical-align: top;\n",
       "    }\n",
       "\n",
       "    .dataframe thead th {\n",
       "        text-align: right;\n",
       "    }\n",
       "</style>\n",
       "<table border=\"1\" class=\"dataframe\">\n",
       "  <thead>\n",
       "    <tr style=\"text-align: right;\">\n",
       "      <th></th>\n",
       "      <th>date</th>\n",
       "      <th>hour</th>\n",
       "      <th>price</th>\n",
       "      <th>season</th>\n",
       "      <th>differential</th>\n",
       "    </tr>\n",
       "  </thead>\n",
       "  <tbody>\n",
       "    <tr>\n",
       "      <th>0</th>\n",
       "      <td>01/01/2024</td>\n",
       "      <td>1</td>\n",
       "      <td>14.19</td>\n",
       "      <td>0</td>\n",
       "      <td>0.00</td>\n",
       "    </tr>\n",
       "    <tr>\n",
       "      <th>1</th>\n",
       "      <td>01/01/2024</td>\n",
       "      <td>1</td>\n",
       "      <td>14.93</td>\n",
       "      <td>0</td>\n",
       "      <td>0.74</td>\n",
       "    </tr>\n",
       "    <tr>\n",
       "      <th>2</th>\n",
       "      <td>01/01/2024</td>\n",
       "      <td>1</td>\n",
       "      <td>15.93</td>\n",
       "      <td>0</td>\n",
       "      <td>1.00</td>\n",
       "    </tr>\n",
       "    <tr>\n",
       "      <th>3</th>\n",
       "      <td>01/01/2024</td>\n",
       "      <td>1</td>\n",
       "      <td>16.05</td>\n",
       "      <td>0</td>\n",
       "      <td>0.12</td>\n",
       "    </tr>\n",
       "    <tr>\n",
       "      <th>4</th>\n",
       "      <td>01/01/2024</td>\n",
       "      <td>2</td>\n",
       "      <td>15.84</td>\n",
       "      <td>0</td>\n",
       "      <td>-0.21</td>\n",
       "    </tr>\n",
       "    <tr>\n",
       "      <th>...</th>\n",
       "      <td>...</td>\n",
       "      <td>...</td>\n",
       "      <td>...</td>\n",
       "      <td>...</td>\n",
       "      <td>...</td>\n",
       "    </tr>\n",
       "    <tr>\n",
       "      <th>35131</th>\n",
       "      <td>12/31/2024</td>\n",
       "      <td>23</td>\n",
       "      <td>22.37</td>\n",
       "      <td>0</td>\n",
       "      <td>0.11</td>\n",
       "    </tr>\n",
       "    <tr>\n",
       "      <th>35132</th>\n",
       "      <td>12/31/2024</td>\n",
       "      <td>24</td>\n",
       "      <td>21.99</td>\n",
       "      <td>0</td>\n",
       "      <td>-0.38</td>\n",
       "    </tr>\n",
       "    <tr>\n",
       "      <th>35133</th>\n",
       "      <td>12/31/2024</td>\n",
       "      <td>24</td>\n",
       "      <td>20.60</td>\n",
       "      <td>0</td>\n",
       "      <td>-1.39</td>\n",
       "    </tr>\n",
       "    <tr>\n",
       "      <th>35134</th>\n",
       "      <td>12/31/2024</td>\n",
       "      <td>24</td>\n",
       "      <td>19.78</td>\n",
       "      <td>0</td>\n",
       "      <td>-0.82</td>\n",
       "    </tr>\n",
       "    <tr>\n",
       "      <th>35135</th>\n",
       "      <td>12/31/2024</td>\n",
       "      <td>24</td>\n",
       "      <td>18.78</td>\n",
       "      <td>0</td>\n",
       "      <td>-1.00</td>\n",
       "    </tr>\n",
       "  </tbody>\n",
       "</table>\n",
       "<p>35136 rows × 5 columns</p>\n",
       "</div>"
      ],
      "text/plain": [
       "             date  hour  price  season  differential\n",
       "0      01/01/2024     1  14.19       0          0.00\n",
       "1      01/01/2024     1  14.93       0          0.74\n",
       "2      01/01/2024     1  15.93       0          1.00\n",
       "3      01/01/2024     1  16.05       0          0.12\n",
       "4      01/01/2024     2  15.84       0         -0.21\n",
       "...           ...   ...    ...     ...           ...\n",
       "35131  12/31/2024    23  22.37       0          0.11\n",
       "35132  12/31/2024    24  21.99       0         -0.38\n",
       "35133  12/31/2024    24  20.60       0         -1.39\n",
       "35134  12/31/2024    24  19.78       0         -0.82\n",
       "35135  12/31/2024    24  18.78       0         -1.00\n",
       "\n",
       "[35136 rows x 5 columns]"
      ]
     },
     "execution_count": 32,
     "metadata": {},
     "output_type": "execute_result"
    }
   ],
   "source": [
    "data"
   ]
  },
  {
   "cell_type": "code",
   "execution_count": 33,
   "id": "85c7af6d-5861-49c5-b11e-f86cd9aecec2",
   "metadata": {},
   "outputs": [],
   "source": [
    "data['movingavg']=data['price'].rolling(window = 96, min_periods = 1).median()"
   ]
  },
  {
   "cell_type": "code",
   "execution_count": 35,
   "id": "3efaa43e-8541-46e3-ad14-84c604092e5d",
   "metadata": {},
   "outputs": [],
   "source": [
    "class Bot:\n",
    "    def __init__(self, balance, storage):\n",
    "        self.balance = balance \n",
    "        self.storage = storage\n",
    "        self.trades = 0\n",
    "        \n",
    "    def buy(self, price):\n",
    "        if price < self.balance:\n",
    "            self.balance -= price\n",
    "            self.storage += 1\n",
    "\n",
    "    def sell(self, price):\n",
    "        if self.storage > 0:\n",
    "            self.balance += price\n",
    "            self.storage -= 1\n",
    "            self.trades += 1\n",
    "\n",
    "    def summary(self):\n",
    "        print(\"Balance: \" + str(self.balance))\n",
    "        print(\"Storage: \" + str(self.storage))\n",
    "        print(\"Trades made: \" + str(self.trades))\n",
    "        print(\"Income per trade: \" + str(self.balance/self.trades))\n",
    "        print(\"Estimated value of storage at $20/MWh: \" + str(self.storage*20))\n",
    "            \n",
    "class LossyBot(Bot):\n",
    "    def sell(self, price):\n",
    "        if self.storage > 0:\n",
    "            self.balance += price *.8\n",
    "            self.storage -= 1\n",
    "            self.trades += 1\n",
    "        "
   ]
  },
  {
   "cell_type": "code",
   "execution_count": 66,
   "id": "a2402435-4dd2-4c7e-8db3-df232da66e00",
   "metadata": {},
   "outputs": [],
   "source": [
    "#Buys if price less than average, sells if more"
   ]
  },
  {
   "cell_type": "code",
   "execution_count": 37,
   "id": "f95a7f47-c29e-46d6-a14f-f768c97f23e1",
   "metadata": {},
   "outputs": [],
   "source": [
    "def SimpleTrades(bot, market):\n",
    "    for index, row in market.iterrows():\n",
    "        price = row['price']\n",
    "        avg = row['movingavg']\n",
    "        if price<avg:\n",
    "            bot.buy(price)\n",
    "        elif price>avg:\n",
    "            bot.sell(price)"
   ]
  },
  {
   "cell_type": "code",
   "execution_count": 68,
   "id": "85bcd920-e718-425e-a150-3a096acaeb6d",
   "metadata": {},
   "outputs": [],
   "source": [
    "#This shifts the benchmark for when to buy an arbitary amount below the average. The sell threshold coefficient is 1.25 times\n",
    "#the buy threshold to reflect 80% round trip efficiency"
   ]
  },
  {
   "cell_type": "code",
   "execution_count": 70,
   "id": "4deaa7bc-d586-4b31-9ae8-220f657852a1",
   "metadata": {},
   "outputs": [],
   "source": [
    "def ThoughtfulTrades(bot, market):\n",
    "    for index, row in market.iterrows():\n",
    "        price = row['price']\n",
    "        avg = row['movingavg']\n",
    "        if price<avg * .9:\n",
    "            bot.buy(price)\n",
    "        elif price>avg * 1.125:\n",
    "            bot.sell(price)"
   ]
  },
  {
   "cell_type": "code",
   "execution_count": 72,
   "id": "21fe433f-2b32-4dc1-895f-87f1991c89ce",
   "metadata": {},
   "outputs": [],
   "source": [
    "january=data[data.date.between(\"01/01/2024\",\"01/31/2024\")]"
   ]
  },
  {
   "cell_type": "code",
   "execution_count": 74,
   "id": "aa765c03-b6f7-4eb6-b274-e0f417fee24b",
   "metadata": {},
   "outputs": [],
   "source": [
    "#Assessing performance of each bot"
   ]
  },
  {
   "cell_type": "code",
   "execution_count": 41,
   "id": "d48b65c7-7997-4609-91cb-b39627bde042",
   "metadata": {
    "scrolled": true
   },
   "outputs": [
    {
     "name": "stdout",
     "output_type": "stream",
     "text": [
      "Balance: 39080.69000000004\n",
      "Storage: 193\n",
      "Trades made: 1249\n",
      "Income per trade: 31.289583666933577\n",
      "Estimated value of storage at $20/MWh: 3860\n"
     ]
    }
   ],
   "source": [
    "bot1 = Bot(100,0)\n",
    "SimpleTrades(bot1,january)\n",
    "bot1.summary()"
   ]
  },
  {
   "cell_type": "code",
   "execution_count": 42,
   "id": "d8eb536c-b1a9-4c81-8d97-dab438078b78",
   "metadata": {},
   "outputs": [
    {
     "name": "stdout",
     "output_type": "stream",
     "text": [
      "Balance: 27269.320000000058\n",
      "Storage: 193\n",
      "Trades made: 1208\n",
      "Income per trade: 22.57394039735104\n",
      "Estimated value of storage at $20/MWh: 3860\n"
     ]
    }
   ],
   "source": [
    "bot2 = LossyBot(100,0)\n",
    "SimpleTrades(bot2,january)\n",
    "bot2.summary()"
   ]
  },
  {
   "cell_type": "code",
   "execution_count": 43,
   "id": "557d3137-9051-4a01-b301-872a124efb11",
   "metadata": {},
   "outputs": [
    {
     "name": "stdout",
     "output_type": "stream",
     "text": [
      "Balance: 30710.37000000006\n",
      "Storage: 151\n",
      "Trades made: 1049\n",
      "Income per trade: 29.275853193517694\n",
      "Estimated value of storage at $20/MWh: 3020\n"
     ]
    }
   ],
   "source": [
    "bot3 = LossyBot(100,0)\n",
    "ThoughtfulTrades(bot3,january)\n",
    "bot3.summary()"
   ]
  },
  {
   "cell_type": "code",
   "execution_count": 76,
   "id": "6dd8fff3-6e1c-41b7-b0df-d9ad2046031a",
   "metadata": {},
   "outputs": [],
   "source": [
    "#qFinder finds a quantile at which the number of MWh price intervals that can be bought at the round-trip-efficiency fraction of \n",
    "#another price interval is maximized"
   ]
  },
  {
   "cell_type": "code",
   "execution_count": 45,
   "id": "58c23c8b-d4b8-4df9-90f1-0875224fc314",
   "metadata": {},
   "outputs": [],
   "source": [
    "#That seems like it's confusing, so basically, since the round-trip-efficiency is 80%, qFinder finds the point in the data\n",
    "#where the most amount of data points can be \"bought\" at 80% of the price of other data points.\n",
    "#This helps maximize the likelihood that any power bought will be sold at a profitable price"
   ]
  },
  {
   "cell_type": "code",
   "execution_count": 46,
   "id": "5d2b39cf-19c2-4c4e-baa5-8f10bc57f7ec",
   "metadata": {},
   "outputs": [],
   "source": [
    "roundTripEfficiency = .8"
   ]
  },
  {
   "cell_type": "code",
   "execution_count": 47,
   "id": "2658f37e-7282-4976-8c22-81ca060c94d0",
   "metadata": {},
   "outputs": [],
   "source": [
    "def qFinder(val,pricedata):\n",
    "    \n",
    "    q = val\n",
    "    k = val\n",
    "    r = 1-k\n",
    "    \n",
    "    L = lambda l : pricedata.quantile(l)\n",
    "\n",
    "    while (L(r) * roundTripEfficiency - L(q)) > 0 and (k<r):\n",
    "        diff1 = L(r) * roundTripEfficiency - L(q)\n",
    "        diff2 = L(r) * roundTripEfficiency - L(k)\n",
    "        \n",
    "        if diff2 < diff1 and (diff2 > 0):\n",
    "            q=k\n",
    "        \n",
    "        k += .01\n",
    "            \n",
    "    return pricedata.quantile(q)   "
   ]
  },
  {
   "cell_type": "code",
   "execution_count": 48,
   "id": "09d81044-db06-4b27-bc4a-5ef070f1c355",
   "metadata": {},
   "outputs": [],
   "source": [
    "q = qFinder(.4,january['price'])"
   ]
  },
  {
   "cell_type": "code",
   "execution_count": 49,
   "id": "2d11a852-8958-4319-8c56-90ce9b9ef2eb",
   "metadata": {},
   "outputs": [],
   "source": [
    "def qTrades(bot, market, q):\n",
    "    for index, row in market.iterrows():\n",
    "        price = row['price']\n",
    "        if price<q:\n",
    "            bot.buy(price)\n",
    "        elif price>q*(1/roundTripEfficiency):\n",
    "            bot.sell(price)"
   ]
  },
  {
   "cell_type": "code",
   "execution_count": 50,
   "id": "11858a11-516c-4582-9064-435117a65558",
   "metadata": {},
   "outputs": [
    {
     "name": "stdout",
     "output_type": "stream",
     "text": [
      "Balance: 48626.39600000005\n",
      "Storage: 177\n",
      "Trades made: 1013\n",
      "Income per trade: 48.002365251727596\n",
      "Estimated value of storage at $20/MWh: 3540\n"
     ]
    }
   ],
   "source": [
    "bot4 = LossyBot(100,0)\n",
    "qTrades(bot4,january,q)\n",
    "bot4.summary()"
   ]
  },
  {
   "cell_type": "code",
   "execution_count": null,
   "id": "e1633577-f247-4481-a2d6-d89646edb36b",
   "metadata": {},
   "outputs": [],
   "source": []
  }
 ],
 "metadata": {
  "kernelspec": {
   "display_name": "Python [conda env:base] *",
   "language": "python",
   "name": "conda-base-py"
  },
  "language_info": {
   "codemirror_mode": {
    "name": "ipython",
    "version": 3
   },
   "file_extension": ".py",
   "mimetype": "text/x-python",
   "name": "python",
   "nbconvert_exporter": "python",
   "pygments_lexer": "ipython3",
   "version": "3.12.7"
  }
 },
 "nbformat": 4,
 "nbformat_minor": 5
}
